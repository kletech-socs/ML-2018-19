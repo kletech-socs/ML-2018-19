{
 "cells": [
  {
   "cell_type": "markdown",
   "metadata": {},
   "source": [
    "                                                  Part-1\n",
    "\n",
    "Learning Rate: Used to limit the amount each coefficient is corrected each time it is updated.   \n",
    "Epochs: The number of times to run through the training data while updating the coefficients.\n",
    "\n",
    "\n",
    "\n",
    "\n",
    "1. Start with 0 (zero ) value for  m & c .\n",
    "2. Using cost function \n",
    "    $$J(\\theta) = \\frac{1}{2m}\\sum_{i=1}^m(h_\\theta(x^{(i)})-y^{(i)})^2$$\n",
    "    where $(h_\\theta(x^{(i)})$ is prediction for present iteration\n",
    "\n",
    "    \n",
    "3. Find the values of $\\theta_1$ & $\\theta_0$ by updating the values with learning rate of 0.005, 0.0005 etc and epoch value 100,500,1000, etc.\n",
    "4. Stop the iterations when error falls below threshold.\n"
   ]
  },
  {
   "cell_type": "code",
   "execution_count": 1,
   "metadata": {},
   "outputs": [
    {
     "name": "stderr",
     "output_type": "stream",
     "text": [
      "/home/shashank/anaconda3/lib/python3.6/importlib/_bootstrap.py:219: RuntimeWarning: numpy.dtype size changed, may indicate binary incompatibility. Expected 96, got 88\n",
      "  return f(*args, **kwds)\n",
      "/home/shashank/anaconda3/lib/python3.6/importlib/_bootstrap.py:219: RuntimeWarning: numpy.dtype size changed, may indicate binary incompatibility. Expected 96, got 88\n",
      "  return f(*args, **kwds)\n",
      "/home/shashank/anaconda3/lib/python3.6/importlib/_bootstrap.py:219: RuntimeWarning: numpy.dtype size changed, may indicate binary incompatibility. Expected 96, got 88\n",
      "  return f(*args, **kwds)\n"
     ]
    }
   ],
   "source": [
    "import numpy\n",
    "\n",
    "rng = numpy.random\n",
    "import tensorflow as tf\n",
    "\n",
    "import matplotlib.pyplot as plt\n",
    "from mpl_toolkits.mplot3d import Axes3D"
   ]
  },
  {
   "cell_type": "code",
   "execution_count": 24,
   "metadata": {},
   "outputs": [],
   "source": [
    "def Linear_regression(learning_rate,training_epochs,display_step):\n",
    "    \n",
    "    filename = \"data.txt\"\n",
    "    mynumbers = []\n",
    "    train_X=list()\n",
    "\n",
    "    train_Y=list()\n",
    "    n_samples=0\n",
    "    c=0\n",
    "    with open(filename) as f:\n",
    "        for line in f:\n",
    "            if c!=0:\n",
    "                mynumbers.append([float(n) for n in line.strip().split('\\t')])\n",
    "            c=c+1\n",
    "    for pair in mynumbers:\n",
    "        try:\n",
    "            train_X.append(pair[0])\n",
    "            train_Y.append(pair[1])\n",
    "            n_samples=n_samples+1\n",
    "        except IndexError:\n",
    "            print (\"A line in the file doesn't have enough entries.\")\n",
    "    costvalue=list()\n",
    "    epochvalue=list()\n",
    "    \n",
    "    \n",
    "    #print(train_X)\n",
    "    \n",
    "    \n",
    "    \n",
    "    X = tf.placeholder(\"float\")\n",
    "    Y = tf.placeholder(\"float\")\n",
    "\n",
    "    # Set model weights\n",
    "    W = tf.Variable(rng.randn(), name=\"weight\")\n",
    "    b = tf.Variable(rng.randn(), name=\"bias\")\n",
    "    print(W,b)\n",
    "    n_samples=190\n",
    "    # Construct a linear model\n",
    "    pred = tf.add(tf.multiply(X, W), b)\n",
    "\n",
    "    # Mean squared error\n",
    "    cost = tf.reduce_sum(tf.pow(pred-Y, 2))/(2*n_samples)\n",
    "    # Gradient descent\n",
    "    optimizer = tf.train.GradientDescentOptimizer(learning_rate).minimize(cost)\n",
    "\n",
    "    init = tf.global_variables_initializer()\n",
    "\n",
    "    teta=list()\n",
    "    beta=list()\n",
    "\n",
    "\n",
    "    with tf.Session() as sess:\n",
    "        sess.run(init)\n",
    "\n",
    "        # Fit all training data\n",
    "        for epoch in range(training_epochs):\n",
    "            for (x, y) in zip(train_X, train_Y):\n",
    "                sess.run(optimizer, feed_dict={X: x, Y: y})\n",
    "\n",
    "            #Display logs per epoch step\n",
    "            if (epoch+1) % display_step == 0:\n",
    "                c = sess.run(cost, feed_dict={X: train_X, Y:train_Y})\n",
    "                print (\"Epoch:\", '%05d' % (epoch+1), \"cost=\", \"{:.9f}\".format(c), \\\n",
    "                    \"W=\", sess.run(W), \"b=\", sess.run(b))\n",
    "                costvalue.append(c)\n",
    "                teta.append(sess.run(W))\n",
    "                beta.append(sess.run(b))\n",
    "                epochvalue.append(epoch)\n",
    "                \n",
    "        print (\"Optimization Finished!\")\n",
    "        training_cost = sess.run(cost, feed_dict={X: train_X, Y: train_Y})\n",
    "        print (\"Training cost=\", training_cost, \"W=\", sess.run(W), \"b=\", sess.run(b), '\\n')\n",
    "        \n",
    "        plt.plot(epochvalue,costvalue)\n",
    "        #fig = plt.figure()\n",
    "        #//ax = fig.gca(projection='3d')\n",
    "        \n",
    "       # //ax.plot_surface(teta, beta, costvalue)\n",
    "        \n",
    "        #/Axes3D.plot_surface(ax,teta, beta, costvalue)\n",
    "        \n",
    "        plt.legend()\n",
    "        plt.show()\n",
    "        "
   ]
  },
  {
   "cell_type": "code",
   "execution_count": null,
   "metadata": {},
   "outputs": [],
   "source": []
  },
  {
   "cell_type": "code",
   "execution_count": 25,
   "metadata": {},
   "outputs": [
    {
     "name": "stdout",
     "output_type": "stream",
     "text": [
      "<tf.Variable 'weight_1:0' shape=() dtype=float32_ref> <tf.Variable 'bias_1:0' shape=() dtype=float32_ref>\n",
      "Epoch: 00030 cost= 1601.852539062 W= 5.13296 b= 0.97259325\n",
      "Epoch: 00060 cost= 1157.260009766 W= 8.462788 b= 2.426423\n",
      "Epoch: 00090 cost= 920.251953125 W= 10.840129 b= 3.6020188\n"
     ]
    },
    {
     "name": "stderr",
     "output_type": "stream",
     "text": [
      "No handles with labels found to put in legend.\n"
     ]
    },
    {
     "name": "stdout",
     "output_type": "stream",
     "text": [
      "Optimization Finished!\n",
      "Training cost= 868.7294 W= 11.468587 b= 3.945845 \n",
      "\n"
     ]
    },
    {
     "data": {
      "image/png": "[encoded data removed]",
      "text/plain": [
       "<Figure size 432x288 with 1 Axes>"
      ]
     },
     "metadata": {},
     "output_type": "display_data"
    }
   ],
   "source": [
    "Linear_regression(0.001,100,30)"
   ]
  },
  {
   "cell_type": "code",
   "execution_count": 26,
   "metadata": {},
   "outputs": [
    {
     "name": "stdout",
     "output_type": "stream",
     "text": [
      "(30,)\n"
     ]
    },
    {
     "data": {
      "image/png": "[encoded data removed]",
      "text/plain": [
       "<Figure size 432x288 with 1 Axes>"
      ]
     },
     "metadata": {},
     "output_type": "display_data"
    }
   ],
   "source": [
    "import numpy as np\n",
    "import numpy\n",
    "\n",
    "rng = numpy.random\n",
    "import tensorflow as tf\n",
    "\n",
    "import matplotlib\n",
    "from mpl_toolkits.mplot3d import Axes3D\n",
    "number_of_datapoints = 30\n",
    "x = np.random.rand(number_of_datapoints)\n",
    "y = np.random.rand(number_of_datapoints)\n",
    "z = np.random.rand(number_of_datapoints)\n",
    "print(z.shape)\n",
    "count_min = 1\n",
    "count_max = 187\n",
    "data = np.random.randint(count_min, count_max, number_of_datapoints) # these are your counts\n",
    "\n",
    "#%% Create Color Map\n",
    "colormap = plt.get_cmap(\"YlOrRd\")\n",
    "norm = matplotlib.colors.Normalize(vmin=min(data), vmax=max(data))\n",
    "\n",
    "#%% 3D Plot\n",
    "fig = plt.figure()\n",
    "ax3D = fig.add_subplot(111, projection='3d')\n",
    "ax3D.scatter(x, y, z, s=10, c=colormap(norm(data)), marker='o')  \n",
    "plt.show()"
   ]
  },
  {
   "cell_type": "markdown",
   "metadata": {},
   "source": [
    "                                                   Part 2\n",
    "1. Display the graph of decreasing cost function against learning rate and epoch.\n",
    "2. Compare time complexity of all the three approach.\n",
    "3. Start with random values of $\\theta_1$ & $\\theta_0$ and analyse best approach for initial values of $\\theta_1$ & $\\theta_0$."
   ]
  },
  {
   "cell_type": "markdown",
   "metadata": {},
   "source": [
    "                                                   Part 3\n",
    "1. Write analysis on how optimization was improved.\n",
    "2. Implement one more new cost function."
   ]
  },
  {
   "cell_type": "markdown",
   "metadata": {},
   "source": [
    "\n",
    "\n",
    "1)\n",
    "When the initial values of the paremeters assgiend 0's\n",
    "Linear_regression_0(0.01,500,10)=>cost function =116.66976 W= 3.343389 b= 54.004677 \n",
    "from the we can interprit that cost function decreasing towards the global minimum.\n",
    "As the the initial parameters were 0's so it take more time to converge.\n",
    "\n",
    "\n",
    "\n",
    "3)\n",
    "                 \n",
    "\tlearning_rate=0.5  learning_rate=0.5\tlearning_rate=0.5\tlearning_rate=0.05\tlearning_rate=0.005\n",
    "\tepoches=100\t   epoches=500\t\tepoches=1000\t\tepoches=500\t\tepoches=1000\n",
    "\tdisplay_test=50    display_test=50\tdisplay_test=50\t\tdisplay_test=50\t\tdisplay_test=50\n",
    "\n",
    "cost     17.651213 \t\t17.5648\t\t17.5648\t\t\t15.2196\t\t\t115.57\n",
    "W\t -4.4432645 \t\t-6.11069\t-6.11069\t\t-5.59852\t\t3.342\n",
    "b\t 80.784065\t\t84.6776\t\t84.677\t\t\t84.971177\t\t54.184\n",
    "\n",
    "\n",
    "From the above results and the graph generated we can conclude that\n",
    "\n",
    "1) As the learning rate is very small their is a smooth decrease in the cost.\n",
    "   And the cost function goes on decresing slowly. It require more\n",
    "   number of epoches to get trained properlly.it take less time to converge the convex fuvction.\n",
    "\n",
    "2) When the learning rate is large ,we can see their is decrease in the\n",
    "   cost function very fast,so it can minimize the cost in very few \n",
    "   epoches.It take less time to converge the convex fuvction.\n",
    "\n",
    "\n",
    "4)\n",
    "Stop the iterations when error falls below threshold.\n",
    "The threshold which we set was if the change in the cost function at each iteration is less than 0.0005.\n",
    "the result which i got is   \n",
    "Linear_regression_thres(0.05,1000,50)  Training cost= 15.159282 W= -5.7960925 b= 85.687386\n",
    "\n",
    "      \t\t\t\t\t\t\t  part 2\n",
    "\n",
    "  \n",
    "1) When we are running on a high number of epoches ,we can see from the graph that their is \n",
    "     constant cost maintaing for large number of epoches.at this time we need set some threshould and break them\n",
    "   We should always look at the graph when we implement the gradient decent so that we will comt to know  weather \n",
    "     the cost function is decreasing or yet to be decreased in furter epoches.\n",
    "\n",
    "2)\n",
    "The time complexity of the gradient decent can not be said directly it always depends on the intalization of the parameters,\n",
    "learning rate,data set,and the how the cost function looks like.\n",
    "In SGD, because it’s using only one example at a time,we need to stuffle the data before optimization so that we can get different type of data at each retrival.\n",
    "Its path to the minima is noisier (more random) than that of the batch gradient.\n",
    "But it’s ok as we are indifferent to the path, as long as it gives us the minimum AND the shorter training time.\n",
    "when the training data set is large enough, stochastic gradient descent only requires a small number of iterations \n",
    "to find useful solutions such that the total computational cost is lower than that of gradient descent even for just one iteration. \n",
    "\n",
    "3)\n",
    "This is not true, depending on the initial condition, gradient descent may end up at different local optima.Most of them prefer to initalize \n",
    "the parameters with random values insted of zero the magnitudes of the update is huge. But as it approaches the optimum, then the algorithm will find little need \n",
    "to update the parameters, and therefore, the value of the cost does not change much. This matches the behavior it had with our simple equation example in the Getting Started with Gradient Descent section.\n"
   ]
  },
  {
   "cell_type": "code",
   "execution_count": null,
   "metadata": {},
   "outputs": [],
   "source": []
  }
 ],
 "metadata": {
  "kernelspec": {
   "display_name": "Python 3",
   "language": "python",
   "name": "python3"
  },
  "language_info": {
   "codemirror_mode": {
    "name": "ipython",
    "version": 3
   },
   "file_extension": ".py",
   "mimetype": "text/x-python",
   "name": "python",
   "nbconvert_exporter": "python",
   "pygments_lexer": "ipython3",
   "version": "3.6.6"
  }
 },
 "nbformat": 4,
 "nbformat_minor": 2
}
