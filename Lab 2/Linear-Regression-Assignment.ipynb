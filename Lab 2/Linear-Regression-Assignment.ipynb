{
 "cells": [
  {
   "cell_type": "code",
   "execution_count": 156,
   "metadata": {
    "collapsed": true
   },
   "outputs": [],
   "source": [
    "import tensorflow as tf\n",
    "import numpy\n",
    "import matplotlib.pyplot as plt\n",
    "rng = numpy.random"
   ]
  },
  {
   "cell_type": "code",
   "execution_count": 157,
   "metadata": {
    "collapsed": true
   },
   "outputs": [],
   "source": [
    "learning_rate = 0.05\n",
    "training_epochs = 10000\n",
    "display_step = 50"
   ]
  },
  {
   "cell_type": "code",
   "execution_count": 158,
   "metadata": {},
   "outputs": [
    {
     "name": "stdout",
     "output_type": "stream",
     "text": [
      "190\n"
     ]
    }
   ],
   "source": [
    "filename = \"data.txt\"\n",
    "mynumbers = []\n",
    "train_X=[]\n",
    "train_Y=[]\n",
    "with open(filename) as f:\n",
    "    for line in f:\n",
    "        mynumbers.append([float(n) for n in line.strip().split('\\t')])\n",
    "for pair in mynumbers:\n",
    "    try:\n",
    "        train_X.append(pair[0])\n",
    "        train_Y.append([pair[1]])\n",
    "        # Do Something with x and y\n",
    "    except IndexError:\n",
    "        print(\"A line in the file doesn't have enough entries.\")\n",
    "n_samples = len(train_X)\n",
    "print(n_samples)"
   ]
  },
  {
   "cell_type": "code",
   "execution_count": 165,
   "metadata": {},
   "outputs": [
    {
     "name": "stdout",
     "output_type": "stream",
     "text": [
      "0.49773253868769723 1.167263440307611\n"
     ]
    }
   ],
   "source": [
    "# tf Graph Input\n",
    "X = tf.placeholder(\"float\")\n",
    "Y = tf.placeholder(\"float\")\n",
    "\n",
    "# Set model weights\n",
    "a=rng.randn()\n",
    "ba=rng.randn()\n",
    "W = tf.Variable(0.33, name=\"weight\")\n",
    "b = tf.Variable(, name=\"bias\")\n",
    "print(a,ba)"
   ]
  },
  {
   "cell_type": "code",
   "execution_count": 160,
   "metadata": {
    "collapsed": true
   },
   "outputs": [],
   "source": [
    "# Construct a linear model\n",
    "pred = tf.add(tf.multiply(X, W), b)"
   ]
  },
  {
   "cell_type": "code",
   "execution_count": 161,
   "metadata": {
    "collapsed": true
   },
   "outputs": [],
   "source": [
    "# Mean squared error\n",
    "cost = tf.reduce_sum(tf.pow(pred-Y, 2))/(2*n_samples)\n",
    "# Gradient descent\n",
    "optimizer = tf.train.GradientDescentOptimizer(learning_rate).minimize(cost)"
   ]
  },
  {
   "cell_type": "code",
   "execution_count": 162,
   "metadata": {
    "collapsed": true
   },
   "outputs": [],
   "source": [
    "# Initializing the variables\n",
    "init = tf.global_variables_initializer()"
   ]
  },
  {
   "cell_type": "code",
   "execution_count": 163,
   "metadata": {},
   "outputs": [
    {
     "name": "stdout",
     "output_type": "stream",
     "text": [
      "Epoch: 0050 cost= 34527.179687500 W= 8.17633 b= 35.0448\n",
      "Epoch: 0100 cost= 15901.668945312 W= 2.96896 b= 53.9187\n",
      "Epoch: 0150 cost= 11213.022460938 W= -0.299443 b= 65.7649\n",
      "Epoch: 0200 cost= 11028.358398438 W= -2.35077 b= 73.1999\n"
     ]
    },
    {
     "name": "stderr",
     "output_type": "stream",
     "text": [
      "No handles with labels found to put in legend.\n"
     ]
    },
    {
     "name": "stdout",
     "output_type": "stream",
     "text": [
      "Epoch: 0250 cost= 11998.960937500 W= -3.63827 b= 77.8664\n",
      "the cost function increses from  epoch250 to epoch200 \n",
      "Optimization Finished!\n",
      "Training cost= 11999.0 W= -3.63827 b= 77.8664 \n",
      "\n"
     ]
    },
    {
     "data": {
      "image/png": "[encoded data removed]",
      "text/plain": [
       "<matplotlib.figure.Figure at 0x11d6d1994a8>"
      ]
     },
     "metadata": {},
     "output_type": "display_data"
    }
   ],
   "source": [
    "# Launch the graph\n",
    "with tf.Session() as sess:\n",
    "    sess.run(init)\n",
    "\n",
    "    # Fit all training data\n",
    "    epochlist=[]\n",
    "    costlist=[]\n",
    "    for epoch in range(training_epochs):\n",
    "        for (x, y) in zip(train_X, train_Y):\n",
    "            sess.run(optimizer, feed_dict={X: x, Y: y})\n",
    "\n",
    "        #Display logs per epoch step\n",
    "        if (epoch+1) % display_step == 0:\n",
    "            epochlist.append(epoch+1)\n",
    "            c = sess.run(cost, feed_dict={X: train_X, Y:train_Y})\n",
    "            \n",
    "            print (\"Epoch:\", '%04d' % (epoch+1), \"cost=\", \"{:.9f}\".format(c), \\\n",
    "                \"W=\", sess.run(W), \"b=\", sess.run(b))\n",
    "            costlist.append(c)\n",
    "            if len(epochlist)>2:\n",
    "                if (costlist[-1]-costlist[-2])>0:\n",
    "                    print(\"the cost function increses from  epoch{} to epoch{} \".format(epochlist[-1],epochlist[-2]))\n",
    "                    break\n",
    "    \n",
    "    print (\"Optimization Finished!\")\n",
    "    training_cost = sess.run(cost, feed_dict={X: train_X, Y: train_Y})\n",
    "    print (\"Training cost=\", training_cost, \"W=\", sess.run(W), \"b=\", sess.run(b), '\\n')\n",
    "\n",
    "    #Graphic display\n",
    "    #plt.plot(train_X, train_Y, 'ro', label='Original data')\n",
    "    plt.plot(epochlist, costlist)\n",
    "    #plt.plot(train_X, sess.run(W) * train_X + sess.run(b), label='Fitted line')\n",
    "    plt.legend()\n",
    "    plt.show()"
   ]
  },
  {
   "cell_type": "markdown",
   "metadata": {
    "collapsed": true
   },
   "source": [
    "learing rate=0.005   epoch=100  step_size=10\n",
    "conclusion:the cost function decreases as the number of \n",
    "epoches increases till 100.\n",
    "learing rate=0.005   epoch=500  step_size=10\n",
    "conclusion:the cost function decreases as the number of \n",
    "epoches increases till 500.\n",
    "\n",
    "cost\t15527\n",
    "epoch\t1000\t\t\n",
    "alpha\t0.05\n",
    "\n",
    "cost \t14532\n",
    "epoch\t1000\n",
    "alpha\t0.005\n",
    "\n",
    "conclusion:As the number of epoches increases the\n",
    "cost function decreases .\n",
    "if the learning rate is low the pocess is slow ,but the cost \n",
    "function reaches minimum after some epoches\n",
    "if the learning rate is high the process is fast,but the \n",
    "cost function again start increasing after some epoches.\n",
    "\n",
    "Own terminating condition:\n",
    "when cost function has increases for the next set of epoch\n",
    "then terminate the optimiser function\n",
    "\n",
    "results:\n",
    "epoch=200 cost=11023 \n",
    "epoch=250 cost=11991.9\n",
    "therefore:the minimum cost is 11023\n"
   ]
  },
  {
   "cell_type": "code",
   "execution_count": null,
   "metadata": {
    "collapsed": true
   },
   "outputs": [],
   "source": []
  }
 ],
 "metadata": {
  "kernelspec": {
   "display_name": "Python 3",
   "language": "python",
   "name": "python3"
  },
  "language_info": {
   "codemirror_mode": {
    "name": "ipython",
    "version": 3
   },
   "file_extension": ".py",
   "mimetype": "text/x-python",
   "name": "python",
   "nbconvert_exporter": "python",
   "pygments_lexer": "ipython3",
   "version": "3.6.3"
  }
 },
 "nbformat": 4,
 "nbformat_minor": 2
}
